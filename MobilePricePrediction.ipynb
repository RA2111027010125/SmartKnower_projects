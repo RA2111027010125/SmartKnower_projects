{
  "nbformat": 4,
  "nbformat_minor": 0,
  "metadata": {
    "colab": {
      "provenance": []
    },
    "kernelspec": {
      "name": "python3",
      "display_name": "Python 3"
    },
    "language_info": {
      "name": "python"
    }
  },
  "cells": [
    {
      "cell_type": "code",
      "execution_count": 1,
      "metadata": {
        "id": "8a11oJqbmzXn"
      },
      "outputs": [],
      "source": [
        "import pandas as pd\n",
        "import numpy as np\n",
        "import sklearn\n",
        "from sklearn.model_selection import train_test_split\n",
        "from sklearn.linear_model import LogisticRegression\n",
        "import warnings\n",
        "warnings.filterwarnings('ignore')\n",
        "from sklearn.metrics import accuracy_score\n",
        "from sklearn.neighbors import KNeighborsClassifier\n",
        "from sklearn.metrics import confusion_matrix\n",
        "from sklearn.tree import DecisionTreeClassifier\n",
        "from sklearn.metrics import classification_report\n",
        "from sklearn.ensemble import RandomForestClassifier\n",
        "from sklearn import svm\n"
      ]
    },
    {
      "cell_type": "code",
      "source": [
        "data=pd.read_csv(\"/content/mobile_price_range_data.csv\")\n",
        "newdf=data.dropna()\n",
        "#print(newdf)\n",
        "x=newdf.iloc[:, :-1]\n",
        "y=newdf.iloc[:,-1]\n"
      ],
      "metadata": {
        "id": "AckY2yd0ogxa"
      },
      "execution_count": 2,
      "outputs": []
    },
    {
      "cell_type": "code",
      "source": [
        "X_train, X_test,y_train, y_test = train_test_split(x,y,random_state=23,test_size=0.25, shuffle=True)\n"
      ],
      "metadata": {
        "id": "G2PDpIKcorg4"
      },
      "execution_count": 3,
      "outputs": []
    },
    {
      "cell_type": "code",
      "source": [
        "print('X_train : ')\n",
        "print(X_train.head())\n",
        "print('')\n",
        "print('X_test : ')\n",
        "print(X_test.head())\n",
        "print('')\n",
        "print('y_train : ')\n",
        "print(y_train.head())\n",
        "print('')\n",
        "print('y_test : ')\n",
        "print(y_test.head())\n"
      ],
      "metadata": {
        "colab": {
          "base_uri": "https://localhost:8080/"
        },
        "id": "bIRrTdScouhp",
        "outputId": "017cc052-94b8-4cc3-a46f-0fa1db80b988"
      },
      "execution_count": 4,
      "outputs": [
        {
          "output_type": "stream",
          "name": "stdout",
          "text": [
            "X_train : \n",
            "      battery_power  blue  clock_speed  dual_sim  fc  four_g  int_memory  \\\n",
            "1697           1152     1          2.1         1   0       1          26   \n",
            "1260           1097     0          1.4         0   0       0          60   \n",
            "610            1430     1          0.9         0   3       0          56   \n",
            "1334           1039     0          0.5         1   8       0          47   \n",
            "1550           1280     1          1.3         0   0       1          39   \n",
            "\n",
            "      m_dep  mobile_wt  n_cores  pc  px_height  px_width   ram  sc_h  sc_w  \\\n",
            "1697    0.3         82        2   0       1304      1673  3284    15     2   \n",
            "1260    0.8        181        1  17        405       519   509    15    12   \n",
            "610     0.1        179        3   5        569       906   752    17     8   \n",
            "1334    0.2        130        8   9        384      1878  1742    18    12   \n",
            "1550    1.0        108        7   1        356       588  2335     6     4   \n",
            "\n",
            "      talk_time  three_g  touch_screen  wifi  \n",
            "1697          8        1             0     1  \n",
            "1260         12        1             0     0  \n",
            "610          17        0             0     1  \n",
            "1334         15        1             0     0  \n",
            "1550          2        1             0     1  \n",
            "\n",
            "X_test : \n",
            "      battery_power  blue  clock_speed  dual_sim  fc  four_g  int_memory  \\\n",
            "1945           1007     1          2.9         1   5       1          21   \n",
            "912             626     0          0.7         1   2       1          23   \n",
            "1069           1414     0          2.6         0   1       0          27   \n",
            "517            1059     0          2.4         0   8       0          61   \n",
            "1135           1344     0          1.5         0   1       0          14   \n",
            "\n",
            "      m_dep  mobile_wt  n_cores  pc  px_height  px_width   ram  sc_h  sc_w  \\\n",
            "1945    0.8        185        8  12        479       831  1301     8     6   \n",
            "912     0.5        187        2   9         90      1334  3458     7     5   \n",
            "1069    0.6        137        4  20        804      1564   312     5     2   \n",
            "517     0.1        134        3  18       1613      1916  3716    15    13   \n",
            "1135    0.5        190        1   3        419       556  2074     8     1   \n",
            "\n",
            "      talk_time  three_g  touch_screen  wifi  \n",
            "1945         12        1             1     0  \n",
            "912          11        1             0     1  \n",
            "1069          8        0             0     1  \n",
            "517          11        1             1     0  \n",
            "1135          5        1             1     0  \n",
            "\n",
            "y_train : \n",
            "1697    3\n",
            "1260    0\n",
            "610     0\n",
            "1334    1\n",
            "1550    1\n",
            "Name: price_range, dtype: int64\n",
            "\n",
            "y_test : \n",
            "1945    0\n",
            "912     2\n",
            "1069    0\n",
            "517     3\n",
            "1135    1\n",
            "Name: price_range, dtype: int64\n"
          ]
        }
      ]
    },
    {
      "cell_type": "markdown",
      "source": [
        "## Logistic Regression"
      ],
      "metadata": {
        "id": "5rm4LRXupBLi"
      }
    },
    {
      "cell_type": "code",
      "source": [
        "log_reg = LogisticRegression()\n",
        "log_reg.fit(X_train,y_train)\n",
        "log_y_pred = log_reg.predict(X_test)\n",
        "accuracy_log_reg = accuracy_score(y_test, log_y_pred)*100\n",
        "print (\"Accuracy - Logistic Regression : \"\n",
        ", accuracy_log_reg)\n",
        "print(\"Confusion Matrix: \"\n",
        ",confusion_matrix(y_test, log_y_pred))\n",
        "print(\"Report : \"\n",
        ",classification_report(y_test, log_y_pred))\n"
      ],
      "metadata": {
        "colab": {
          "base_uri": "https://localhost:8080/"
        },
        "id": "Z2vUEW3qo8Gj",
        "outputId": "7d792e54-b6f9-42fa-c0c2-96824e9820da"
      },
      "execution_count": 6,
      "outputs": [
        {
          "output_type": "stream",
          "name": "stdout",
          "text": [
            "Accuracy - Logistic Regression :  65.0\n",
            "Confusion Matrix:  [[ 95  27   0   0]\n",
            " [ 22  63  26   8]\n",
            " [  0  24  67  39]\n",
            " [  0   2  27 100]]\n",
            "Report :                precision    recall  f1-score   support\n",
            "\n",
            "           0       0.81      0.78      0.79       122\n",
            "           1       0.54      0.53      0.54       119\n",
            "           2       0.56      0.52      0.54       130\n",
            "           3       0.68      0.78      0.72       129\n",
            "\n",
            "    accuracy                           0.65       500\n",
            "   macro avg       0.65      0.65      0.65       500\n",
            "weighted avg       0.65      0.65      0.65       500\n",
            "\n"
          ]
        }
      ]
    },
    {
      "cell_type": "markdown",
      "source": [
        "## KNN Classification"
      ],
      "metadata": {
        "id": "riXwZwNRpJfE"
      }
    },
    {
      "cell_type": "code",
      "source": [
        "knn = KNeighborsClassifier(n_neighbors = 3)\n",
        "knn.fit(X_train, y_train)\n",
        "knn_y_pred = knn.predict(X_test)\n",
        "accuracy_knn_cls = accuracy_score(y_test, knn_y_pred)*100\n",
        "print (\"Accuracy - KNN Classification : \"\n",
        ",accuracy_knn_cls )\n",
        "print(\"Confusion Matrix: \"\n",
        ",confusion_matrix(y_test, knn_y_pred))\n",
        "print(\"Report : \"\n",
        ",classification_report(y_test, knn_y_pred))"
      ],
      "metadata": {
        "colab": {
          "base_uri": "https://localhost:8080/"
        },
        "id": "nVivFrDwpSSU",
        "outputId": "0d46d879-b00a-4868-f280-dfff4c2df4e1"
      },
      "execution_count": 7,
      "outputs": [
        {
          "output_type": "stream",
          "name": "stdout",
          "text": [
            "Accuracy - KNN Classification :  91.2\n",
            "Confusion Matrix:  [[119   3   0   0]\n",
            " [  8  96  15   0]\n",
            " [  0   7 115   8]\n",
            " [  0   0   3 126]]\n",
            "Report :                precision    recall  f1-score   support\n",
            "\n",
            "           0       0.94      0.98      0.96       122\n",
            "           1       0.91      0.81      0.85       119\n",
            "           2       0.86      0.88      0.87       130\n",
            "           3       0.94      0.98      0.96       129\n",
            "\n",
            "    accuracy                           0.91       500\n",
            "   macro avg       0.91      0.91      0.91       500\n",
            "weighted avg       0.91      0.91      0.91       500\n",
            "\n"
          ]
        }
      ]
    },
    {
      "cell_type": "markdown",
      "source": [
        "## Decision Tree classifier"
      ],
      "metadata": {
        "id": "3KjBfx24pgci"
      }
    },
    {
      "cell_type": "code",
      "source": [
        "dtc = DecisionTreeClassifier(criterion = \"gini\"\n",
        ",random_state =\n",
        "100,max_depth=3, min_samples_leaf=5)\n",
        "dtc.fit(X_train, y_train)\n",
        "dtc_y_pred = dtc.predict(X_test)\n",
        "accuracy_dtc = accuracy_score(y_test, dtc_y_pred)*100\n",
        "print (\"Accuracy - Decision Tree classifier : \"\n",
        ",accuracy_dtc )\n",
        "print(\"Confusion Matrix: \"\n",
        ",confusion_matrix(y_test, dtc_y_pred))\n",
        "print(\"Report : \"\n",
        ",classification_report(y_test, dtc_y_pred))\n"
      ],
      "metadata": {
        "colab": {
          "base_uri": "https://localhost:8080/"
        },
        "id": "E-tzFIRPpkl8",
        "outputId": "32787d4d-fb84-4e94-a263-3195548e5955"
      },
      "execution_count": 8,
      "outputs": [
        {
          "output_type": "stream",
          "name": "stdout",
          "text": [
            "Accuracy - Decision Tree classifier :  75.4\n",
            "Confusion Matrix:  [[ 98  24   0   0]\n",
            " [ 12  89  18   0]\n",
            " [  0  24  67  39]\n",
            " [  0   0   6 123]]\n",
            "Report :                precision    recall  f1-score   support\n",
            "\n",
            "           0       0.89      0.80      0.84       122\n",
            "           1       0.65      0.75      0.70       119\n",
            "           2       0.74      0.52      0.61       130\n",
            "           3       0.76      0.95      0.85       129\n",
            "\n",
            "    accuracy                           0.75       500\n",
            "   macro avg       0.76      0.76      0.75       500\n",
            "weighted avg       0.76      0.75      0.75       500\n",
            "\n"
          ]
        }
      ]
    },
    {
      "cell_type": "markdown",
      "source": [
        "## Random Forest classifier"
      ],
      "metadata": {
        "id": "bqtROUirpo2F"
      }
    },
    {
      "cell_type": "code",
      "source": [
        "rfc = RandomForestClassifier(n_estimators = 100)\n",
        "rfc.fit(X_train, y_train)\n",
        "rfc_y_pred = rfc.predict(X_test)\n",
        "accuracy_rfc = accuracy_score(y_test, rfc_y_pred)*100\n",
        "print (\"Accuracy - Random Forest classifier : \"\n",
        ",accuracy_rfc )\n",
        "print(\"Confusion Matrix: \"\n",
        ",confusion_matrix(y_test, rfc_y_pred))\n",
        "print(\"Report : \"\n",
        ",classification_report(y_test, rfc_y_pred))\n"
      ],
      "metadata": {
        "colab": {
          "base_uri": "https://localhost:8080/"
        },
        "id": "tu6w_hlGps6u",
        "outputId": "f2732a44-8262-44fe-e0d3-7c6015931d8e"
      },
      "execution_count": 9,
      "outputs": [
        {
          "output_type": "stream",
          "name": "stdout",
          "text": [
            "Accuracy - Random Forest classifier :  87.8\n",
            "Confusion Matrix:  [[116   6   0   0]\n",
            " [ 10  95  14   0]\n",
            " [  0  13 105  12]\n",
            " [  0   0   6 123]]\n",
            "Report :                precision    recall  f1-score   support\n",
            "\n",
            "           0       0.92      0.95      0.94       122\n",
            "           1       0.83      0.80      0.82       119\n",
            "           2       0.84      0.81      0.82       130\n",
            "           3       0.91      0.95      0.93       129\n",
            "\n",
            "    accuracy                           0.88       500\n",
            "   macro avg       0.88      0.88      0.88       500\n",
            "weighted avg       0.88      0.88      0.88       500\n",
            "\n"
          ]
        }
      ]
    },
    {
      "cell_type": "markdown",
      "source": [
        "## SVM Linear Kernel"
      ],
      "metadata": {
        "id": "66MmyAv5pvxT"
      }
    },
    {
      "cell_type": "code",
      "source": [
        "svm_lin = svm.SVC(kernel = 'linear'\n",
        ", random_state = 0, C=1.0)\n",
        "svm_lin.fit(X_train, y_train)\n",
        "svm_lin_y_pred = svm_lin.predict(X_test)\n",
        "accuracy_svm_lin = accuracy_score(y_test, svm_lin_y_pred)*100\n",
        "print (\"Accuracy - SVM Linear Kernel : \"\n",
        ",accuracy_svm_lin)\n",
        "print(\"Confusion Matrix: \"\n",
        ",confusion_matrix(y_test,\n",
        "svm_lin_y_pred))\n",
        "print(\"Report : \"\n",
        ",classification_report(y_test, svm_lin_y_pred))"
      ],
      "metadata": {
        "colab": {
          "base_uri": "https://localhost:8080/"
        },
        "id": "KefDti2Sp0dR",
        "outputId": "fb322a95-75ca-40d9-921b-fa47617f5da0"
      },
      "execution_count": 10,
      "outputs": [
        {
          "output_type": "stream",
          "name": "stdout",
          "text": [
            "Accuracy - SVM Linear Kernel :  97.2\n",
            "Confusion Matrix:  [[121   1   0   0]\n",
            " [  4 111   4   0]\n",
            " [  0   1 128   1]\n",
            " [  0   0   3 126]]\n",
            "Report :                precision    recall  f1-score   support\n",
            "\n",
            "           0       0.97      0.99      0.98       122\n",
            "           1       0.98      0.93      0.96       119\n",
            "           2       0.95      0.98      0.97       130\n",
            "           3       0.99      0.98      0.98       129\n",
            "\n",
            "    accuracy                           0.97       500\n",
            "   macro avg       0.97      0.97      0.97       500\n",
            "weighted avg       0.97      0.97      0.97       500\n",
            "\n"
          ]
        }
      ]
    },
    {
      "cell_type": "markdown",
      "source": [
        "## SVM rbf Kernel"
      ],
      "metadata": {
        "id": "zhRFjC3np4Sh"
      }
    },
    {
      "cell_type": "code",
      "source": [
        "svm_rbf = svm.SVC(kernel = 'rbf'\n",
        ", random_state = 0, C=1.0)\n",
        "svm_rbf.fit(X_train, y_train)\n",
        "svm_rbf_y_pred = svm_rbf.predict(X_test)\n",
        "accuracy_svm_rbf = accuracy_score(y_test, svm_rbf_y_pred)*100\n",
        "print (\"Accuracy - SVM rbf Kernel : \"\n",
        ",accuracy_svm_rbf)\n",
        "print(\"Confusion Matrix: \"\n",
        ",confusion_matrix(y_test,\n",
        "svm_rbf_y_pred))\n",
        "print(\"Report : \"\n",
        ",classification_report(y_test, svm_rbf_y_pred))"
      ],
      "metadata": {
        "colab": {
          "base_uri": "https://localhost:8080/"
        },
        "id": "XmnA_GRop8FB",
        "outputId": "10b14195-6182-4dc0-8de3-37041533e298"
      },
      "execution_count": 11,
      "outputs": [
        {
          "output_type": "stream",
          "name": "stdout",
          "text": [
            "Accuracy - SVM rbf Kernel :  95.39999999999999\n",
            "Confusion Matrix:  [[120   2   0   0]\n",
            " [  5 108   6   0]\n",
            " [  0   3 120   7]\n",
            " [  0   0   0 129]]\n",
            "Report :                precision    recall  f1-score   support\n",
            "\n",
            "           0       0.96      0.98      0.97       122\n",
            "           1       0.96      0.91      0.93       119\n",
            "           2       0.95      0.92      0.94       130\n",
            "           3       0.95      1.00      0.97       129\n",
            "\n",
            "    accuracy                           0.95       500\n",
            "   macro avg       0.95      0.95      0.95       500\n",
            "weighted avg       0.95      0.95      0.95       500\n",
            "\n"
          ]
        }
      ]
    },
    {
      "cell_type": "markdown",
      "source": [],
      "metadata": {
        "id": "uv2DBctfp-yn"
      }
    },
    {
      "cell_type": "markdown",
      "source": [
        "## Best Accuracy Model"
      ],
      "metadata": {
        "id": "JaSIcB-fp-0W"
      }
    },
    {
      "cell_type": "code",
      "source": [
        "Acc_df = {'Model Name': ['Logistic Regression','KNN Classification','Decision Tree classifier',\n",
        "'Random Forest classifier','SVM Linear Kernel','SVM RBF Kernel'],\n",
        "'Accuracy': [accuracy_log_reg, accuracy_knn_cls,\n",
        "accuracy_dtc, accuracy_rfc,accuracy_svm_lin,accuracy_svm_rbf]}\n",
        "model_accuracy = pd.DataFrame(Acc_df)\n",
        "print()\n",
        "print(\"Best Accuracy Model: \" ,model_accuracy.max())"
      ],
      "metadata": {
        "colab": {
          "base_uri": "https://localhost:8080/"
        },
        "id": "evl4BSjdqCYO",
        "outputId": "99a29d27-c4a3-4abd-f8f5-10406183186c"
      },
      "execution_count": 12,
      "outputs": [
        {
          "output_type": "stream",
          "name": "stdout",
          "text": [
            "\n",
            "Best Accuracy Model:  Model Name    SVM RBF Kernel\n",
            "Accuracy                97.2\n",
            "dtype: object\n"
          ]
        }
      ]
    }
  ]
}